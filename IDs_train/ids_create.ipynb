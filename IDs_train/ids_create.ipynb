{
 "cells": [
  {
   "cell_type": "code",
   "execution_count": 1,
   "metadata": {},
   "outputs": [],
   "source": [
    "from data_extract import DataExtract"
   ]
  },
  {
   "cell_type": "code",
   "execution_count": 2,
   "metadata": {},
   "outputs": [],
   "source": [
    "class DataExtract:\n",
    "    \n",
    "    def __init__(self):\n",
    "        pass\n",
    "    \n",
    "    def extract_data_ids(self, data_file):\n",
    "        with open(data_file, 'r') as file:\n",
    "            lines = file.readlines()\n",
    "        \n",
    "        data_dict = {}\n",
    "        \n",
    "        for line in lines:\n",
    "            parts = line.split()\n",
    "            if len(parts) < 3:\n",
    "                continue\n",
    "            \n",
    "            data_id = parts[2]\n",
    "            data_dict[data_id] = None\n",
    "        return data_dict\n",
    "\n",
    "\n",
    "    def save_dict(self, output_file, data_dict):\n",
    "        with open(output_file, 'w') as file:\n",
    "            file.write(\"{\\n\")\n",
    "            for key in data_dict:\n",
    "                file.write(f\"'{key}',\\n\")\n",
    "            file.write(\"}\\n\")\n",
    "            \n",
    "    \n",
    "    # script_rotulador.py\n",
    "    def label_data(self, input_data, attack_type='maligno'):\n",
    "        with open(input_data, 'r') as file:\n",
    "            lines = file.readlines()\n",
    "        \n",
    "        labeled_data = []\n",
    "        \n",
    "        for line in lines:\n",
    "            parts = line.split()\n",
    "            if len(parts) < 4:\n",
    "                continue\n",
    "    \n",
    "            id_data = parts[3] # seleciona a parte do id e campo de dados\n",
    "            # print(id_data)\n",
    "            if id_data == 'T':\n",
    "                label = attack_type\n",
    "            else:\n",
    "                label = 'benign'\n",
    "            labeled_data.append((line.strip(), label))\n",
    "        return labeled_data\n",
    "\n",
    "\n",
    "    def save_labeled_data(self, output_file, labeled_data):\n",
    "        with open(output_file, 'w') as file:\n",
    "            for line, label in labeled_data:\n",
    "                file.write(f\"{line} {label}\\n\")\n",
    "\n",
    "\n",
    "    def read_file_to_variable(self, file_path):\n",
    "        with open(file_path, 'r') as file:\n",
    "            content = file.read().strip()\n",
    "        return content\n",
    "    "
   ]
  },
  {
   "cell_type": "code",
   "execution_count": 3,
   "metadata": {},
   "outputs": [],
   "source": [
    "dtx = DataExtract()\n",
    "\n",
    "dtx."
   ]
  },
  {
   "cell_type": "code",
   "execution_count": 17,
   "metadata": {},
   "outputs": [
    {
     "name": "stdout",
     "output_type": "stream",
     "text": [
      "Dictionary has been saved in C:/Users/rodri/Desktop/PET/Treinamento da rede/IDs_train/datas/benign_column.txt\n",
      "Dados rotulados foram salvos em C:/Users/rodri/Desktop/PET/Treinamento da rede/IDs_train/data_labels/spoofing_data_atck.txt\n"
     ]
    }
   ],
   "source": [
    "\n",
    "if __name__ == \"__main__\":\n",
    "    \n",
    "    PATH = r\"C:/Users/rodri/Desktop/PET/Treinamento da rede/IDs_train/\"\n",
    "        \n",
    "    dtx = DataExtract()\n",
    "    \n",
    "    data_file = PATH + 'datas/benigno.txt'  # Input file\n",
    "    output_file = PATH + 'datas/benign_column.txt'  # Output file\n",
    "        \n",
    "    data_dict = dtx.extract_data_ids(data_file)\n",
    "\n",
    "    dtx.save_dict(output_file, data_dict)\n",
    "        \n",
    "    print(f\"Dictionary has been saved in {output_file}\")\n",
    "    \n",
    "    \n",
    "    benign_data = PATH + 'datas/benign_column.txt'\n",
    "    ids_benignos = dtx.read_file_to_variable(benign_data)\n",
    "    \n",
    "    #digite o nome do ataque \n",
    "    attck = 'spoofing'\n",
    "    \n",
    "    # ids_benignos = {'3D4', '03A', '141', '026', '0FF', '02C'}  # IDs que são considerados benignos\n",
    "    input_data = PATH + f'datas/{attck}_atack.txt'  # Arquivo de entrada\n",
    "    output_file = PATH + f'data_labels/{attck}_data_atck.txt'  # Arquivo de saída\n",
    "    # print(ids_benignos) \n",
    "    \n",
    "    # rotula os dados com base no arquivo de dados original (benigno)\n",
    "    labeled_data = dtx.label_data(input_data, ids_benignos, attack_type=f'{attck}_atck')\n",
    "    \n",
    "    # salva um arquivo txt com uma coluna de rótulos\n",
    "    dtx.save_labeled_data(output_file, labeled_data)\n",
    "    \n",
    "    print(f\"Dados rotulados foram salvos em {output_file}\")\n"
   ]
  }
 ],
 "metadata": {
  "kernelspec": {
   "display_name": "base",
   "language": "python",
   "name": "python3"
  },
  "language_info": {
   "codemirror_mode": {
    "name": "ipython",
    "version": 3
   },
   "file_extension": ".py",
   "mimetype": "text/x-python",
   "name": "python",
   "nbconvert_exporter": "python",
   "pygments_lexer": "ipython3",
   "version": "3.12.3"
  }
 },
 "nbformat": 4,
 "nbformat_minor": 2
}
