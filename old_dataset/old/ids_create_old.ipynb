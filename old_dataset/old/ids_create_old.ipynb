{
 "cells": [
  {
   "cell_type": "code",
   "execution_count": null,
   "metadata": {},
   "outputs": [],
   "source": [
    "from data_extract import DataExtract"
   ]
  },
  {
   "cell_type": "code",
   "execution_count": null,
   "metadata": {},
   "outputs": [],
   "source": [
    "\n",
    "if __name__ == \"__main__\":\n",
    "    \n",
    "    PATH = r\"C:/Users/rodri/Desktop/PET/Treinamento da rede/IDs_train/\"\n",
    "        \n",
    "    dtx = DataExtract()\n",
    "    \n",
    "    data_file = PATH + 'datas/benigno.txt'  # Input file\n",
    "    output_file = PATH + 'datas/benign_column.txt'  # Output file\n",
    "        \n",
    "    data_dict = dtx.extract_data_ids(data_file)\n",
    "\n",
    "    dtx.save_dict(output_file, data_dict)\n",
    "        \n",
    "    print(f\"Dictionary has been saved in {output_file}\")\n",
    "    \n",
    "    \n",
    "    benign_data = PATH + 'datas/benign_column.txt'\n",
    "    ids_benignos = dtx.read_file_to_variable(benign_data)\n",
    "    \n",
    "    #digite o nome do ataque \n",
    "    attck = 'spoofing'\n",
    "    \n",
    "    # ids_benignos = {'3D4', '03A', '141', '026', '0FF', '02C'}  # IDs que são considerados benignos\n",
    "    input_data = PATH + f'datas/{attck}_atack.txt'  # Arquivo de entrada\n",
    "    output_file = PATH + f'data_labels/{attck}_data_atck.txt'  # Arquivo de saída\n",
    "    # print(ids_benignos) \n",
    "    \n",
    "    # rotula os dados com base no arquivo de dados original (benigno)\n",
    "    labeled_data = dtx.label_data(input_data, ids_benignos, attack_type=f'{attck}_atck')\n",
    "    \n",
    "    # salva um arquivo txt com uma coluna de rótulos\n",
    "    dtx.save_labeled_data(output_file, labeled_data)\n",
    "    \n",
    "    print(f\"Dados rotulados foram salvos em {output_file}\")\n"
   ]
  }
 ],
 "metadata": {
  "language_info": {
   "name": "python"
  }
 },
 "nbformat": 4,
 "nbformat_minor": 2
}
